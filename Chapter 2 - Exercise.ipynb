{
 "cells": [
  {
   "cell_type": "code",
   "execution_count": 2,
   "metadata": {
    "collapsed": true
   },
   "outputs": [],
   "source": [
    "import pandas as pd\n",
    "import matplotlib.pyplot as plt\n",
    "%matplotlib inline"
   ]
  },
  {
   "cell_type": "code",
   "execution_count": 3,
   "metadata": {
    "collapsed": true
   },
   "outputs": [],
   "source": [
    "data = pd.read_csv('./datasets/Food_Inspections.csv')"
   ]
  },
  {
   "cell_type": "code",
   "execution_count": 4,
   "metadata": {},
   "outputs": [
    {
     "data": {
      "text/html": [
       "<div>\n",
       "<style>\n",
       "    .dataframe thead tr:only-child th {\n",
       "        text-align: right;\n",
       "    }\n",
       "\n",
       "    .dataframe thead th {\n",
       "        text-align: left;\n",
       "    }\n",
       "\n",
       "    .dataframe tbody tr th {\n",
       "        vertical-align: top;\n",
       "    }\n",
       "</style>\n",
       "<table border=\"1\" class=\"dataframe\">\n",
       "  <thead>\n",
       "    <tr style=\"text-align: right;\">\n",
       "      <th></th>\n",
       "      <th>Inspection ID</th>\n",
       "      <th>DBA Name</th>\n",
       "      <th>AKA Name</th>\n",
       "      <th>License #</th>\n",
       "      <th>Facility Type</th>\n",
       "      <th>Risk</th>\n",
       "      <th>Address</th>\n",
       "      <th>City</th>\n",
       "      <th>State</th>\n",
       "      <th>Zip</th>\n",
       "      <th>Inspection Date</th>\n",
       "      <th>Inspection Type</th>\n",
       "      <th>Results</th>\n",
       "      <th>Violations</th>\n",
       "      <th>Latitude</th>\n",
       "      <th>Longitude</th>\n",
       "      <th>Location</th>\n",
       "    </tr>\n",
       "  </thead>\n",
       "  <tbody>\n",
       "    <tr>\n",
       "      <th>0</th>\n",
       "      <td>2079132</td>\n",
       "      <td>MARRIOT MARQUIS CHICAGO</td>\n",
       "      <td>MARRIOT MARQUIS CHICAGO</td>\n",
       "      <td>2517328.0</td>\n",
       "      <td>Restaurant</td>\n",
       "      <td>Risk 1 (High)</td>\n",
       "      <td>2121 S PRAIRIE AVE</td>\n",
       "      <td>CHICAGO</td>\n",
       "      <td>IL</td>\n",
       "      <td>60616.0</td>\n",
       "      <td>08/28/2017</td>\n",
       "      <td>License</td>\n",
       "      <td>Pass</td>\n",
       "      <td>NaN</td>\n",
       "      <td>41.853651</td>\n",
       "      <td>-87.620534</td>\n",
       "      <td>(41.853650885040594, -87.62053358114167)</td>\n",
       "    </tr>\n",
       "    <tr>\n",
       "      <th>1</th>\n",
       "      <td>2079129</td>\n",
       "      <td>JET'S PIZZA</td>\n",
       "      <td>JET'S PIZZA</td>\n",
       "      <td>2522268.0</td>\n",
       "      <td>Restaurant</td>\n",
       "      <td>Risk 2 (Medium)</td>\n",
       "      <td>1025 W MADISON ST</td>\n",
       "      <td>CHICAGO</td>\n",
       "      <td>IL</td>\n",
       "      <td>60607.0</td>\n",
       "      <td>08/28/2017</td>\n",
       "      <td>License</td>\n",
       "      <td>Not Ready</td>\n",
       "      <td>NaN</td>\n",
       "      <td>41.881572</td>\n",
       "      <td>-87.653052</td>\n",
       "      <td>(41.88157249576794, -87.65305233593274)</td>\n",
       "    </tr>\n",
       "    <tr>\n",
       "      <th>2</th>\n",
       "      <td>2079125</td>\n",
       "      <td>ROOM 1520</td>\n",
       "      <td>ROOM 1520</td>\n",
       "      <td>2446638.0</td>\n",
       "      <td>Special Event</td>\n",
       "      <td>Risk 3 (Low)</td>\n",
       "      <td>301 N JUSTINE ST</td>\n",
       "      <td>CHICAGO</td>\n",
       "      <td>IL</td>\n",
       "      <td>60607.0</td>\n",
       "      <td>08/28/2017</td>\n",
       "      <td>License Re-Inspection</td>\n",
       "      <td>Not Ready</td>\n",
       "      <td>8. SANITIZING RINSE FOR EQUIPMENT AND UTENSILS...</td>\n",
       "      <td>41.886577</td>\n",
       "      <td>-87.665328</td>\n",
       "      <td>(41.88657652150854, -87.66532812140231)</td>\n",
       "    </tr>\n",
       "  </tbody>\n",
       "</table>\n",
       "</div>"
      ],
      "text/plain": [
       "   Inspection ID                 DBA Name                 AKA Name  License #  \\\n",
       "0        2079132  MARRIOT MARQUIS CHICAGO  MARRIOT MARQUIS CHICAGO  2517328.0   \n",
       "1        2079129              JET'S PIZZA              JET'S PIZZA  2522268.0   \n",
       "2        2079125                ROOM 1520                ROOM 1520  2446638.0   \n",
       "\n",
       "   Facility Type             Risk              Address     City State  \\\n",
       "0     Restaurant    Risk 1 (High)  2121 S PRAIRIE AVE   CHICAGO    IL   \n",
       "1     Restaurant  Risk 2 (Medium)   1025 W MADISON ST   CHICAGO    IL   \n",
       "2  Special Event     Risk 3 (Low)    301 N JUSTINE ST   CHICAGO    IL   \n",
       "\n",
       "       Zip Inspection Date        Inspection Type    Results  \\\n",
       "0  60616.0      08/28/2017                License       Pass   \n",
       "1  60607.0      08/28/2017                License  Not Ready   \n",
       "2  60607.0      08/28/2017  License Re-Inspection  Not Ready   \n",
       "\n",
       "                                          Violations   Latitude  Longitude  \\\n",
       "0                                                NaN  41.853651 -87.620534   \n",
       "1                                                NaN  41.881572 -87.653052   \n",
       "2  8. SANITIZING RINSE FOR EQUIPMENT AND UTENSILS...  41.886577 -87.665328   \n",
       "\n",
       "                                   Location  \n",
       "0  (41.853650885040594, -87.62053358114167)  \n",
       "1   (41.88157249576794, -87.65305233593274)  \n",
       "2   (41.88657652150854, -87.66532812140231)  "
      ]
     },
     "execution_count": 4,
     "metadata": {},
     "output_type": "execute_result"
    }
   ],
   "source": [
    "data.head(3)"
   ]
  },
  {
   "cell_type": "code",
   "execution_count": 5,
   "metadata": {},
   "outputs": [
    {
     "name": "stdout",
     "output_type": "stream",
     "text": [
      "<class 'pandas.core.frame.DataFrame'>\n",
      "RangeIndex: 153810 entries, 0 to 153809\n",
      "Data columns (total 17 columns):\n",
      "Inspection ID      153810 non-null int64\n",
      "DBA Name           153810 non-null object\n",
      "AKA Name           151267 non-null object\n",
      "License #          153795 non-null float64\n",
      "Facility Type      149250 non-null object\n",
      "Risk               153744 non-null object\n",
      "Address            153810 non-null object\n",
      "City               153651 non-null object\n",
      "State              153802 non-null object\n",
      "Zip                153712 non-null float64\n",
      "Inspection Date    153810 non-null object\n",
      "Inspection Type    153809 non-null object\n",
      "Results            153810 non-null object\n",
      "Violations         123012 non-null object\n",
      "Latitude           153266 non-null float64\n",
      "Longitude          153266 non-null float64\n",
      "Location           153266 non-null object\n",
      "dtypes: float64(4), int64(1), object(12)\n",
      "memory usage: 19.9+ MB\n"
     ]
    }
   ],
   "source": [
    "data.info()"
   ]
  },
  {
   "cell_type": "code",
   "execution_count": 6,
   "metadata": {},
   "outputs": [
    {
     "data": {
      "text/plain": [
       "<matplotlib.axes._subplots.AxesSubplot at 0x7f32360e72e8>"
      ]
     },
     "execution_count": 6,
     "metadata": {},
     "output_type": "execute_result"
    },
    {
     "data": {
      "image/png": "[encoded data removed]",
      "text/plain": [
       "<matplotlib.figure.Figure at 0x7f32360e7eb8>"
      ]
     },
     "metadata": {},
     "output_type": "display_data"
    }
   ],
   "source": [
    "data.plot.scatter(x = 'Longitude', y='Latitude', alpha=0.3)"
   ]
  },
  {
   "cell_type": "markdown",
   "metadata": {
    "collapsed": true
   },
   "source": [
    "# Clean Data"
   ]
  },
  {
   "cell_type": "code",
   "execution_count": 12,
   "metadata": {},
   "outputs": [
    {
     "data": {
      "text/plain": [
       "array([ 60616.,  60607.,  60639.,  60653.,  60622.,  60640.,  60620.,\n",
       "        60647.,  60618.,  60625.,  60613.,  60632.,  60649.,  60657.,\n",
       "        60629.,  60636.,  60601.,  60619.,  60608.,  60643.,  60638.,\n",
       "        60628.,  60626.,  60611.,  60645.,  60615.,  60634.,  60617.,\n",
       "        60614.,  60655.,  60623.,  60612.,  60609.,  60644.,  60651.,\n",
       "        60606.,  60827.,  60621.,  60652.,  60637.,  60660.,  60605.,\n",
       "        60604.,  60630.,  60659.,  60642.,  60661.,  60610.,  60654.,\n",
       "        60624.,  60666.,  60641.,  60656.,  60633.,  60602.,  60646.,\n",
       "        60631.,  60707.,  60603.,  60193.,  60153.,  60126.,  60044.,\n",
       "        60201.,  60714.,      0.,  60007.,  60176.,  60302.,  60409.,\n",
       "        60076.,  60077.,  60015.,  60108.,  60804.,  60706.,  60627.,\n",
       "        60202.,  60501.,  60461.,  60559.,  60411.,  60458.,  60477.,\n",
       "        60148.,  60429.,  60478.,  60107.,  60440.,  60402.,  60018.,\n",
       "        60047.,  60453.,  60406.,  60022.,  60423.,  60540.,  60155.,\n",
       "        60482.,  60803.,  60805.])"
      ]
     },
     "execution_count": 12,
     "metadata": {},
     "output_type": "execute_result"
    }
   ],
   "source": [
    "data['Zip'].unique()"
   ]
  },
  {
   "cell_type": "code",
   "execution_count": 13,
   "metadata": {
    "collapsed": true
   },
   "outputs": [],
   "source": [
    "data['Zip'].fillna(0,inplace=True)"
   ]
  },
  {
   "cell_type": "code",
   "execution_count": 14,
   "metadata": {},
   "outputs": [],
   "source": [
    "data['Zip'] = data['Zip'].apply(lambda l: int(l))"
   ]
  },
  {
   "cell_type": "code",
   "execution_count": null,
   "metadata": {
    "collapsed": true
   },
   "outputs": [],
   "source": []
  },
  {
   "cell_type": "code",
   "execution_count": null,
   "metadata": {
    "collapsed": true
   },
   "outputs": [],
   "source": []
  }
 ],
 "metadata": {
  "kernelspec": {
   "display_name": "Python 3",
   "language": "python",
   "name": "python3"
  },
  "language_info": {
   "codemirror_mode": {
    "name": "ipython",
    "version": 3
   },
   "file_extension": ".py",
   "mimetype": "text/x-python",
   "name": "python",
   "nbconvert_exporter": "python",
   "pygments_lexer": "ipython3",
   "version": "3.6.2"
  }
 },
 "nbformat": 4,
 "nbformat_minor": 2
}
