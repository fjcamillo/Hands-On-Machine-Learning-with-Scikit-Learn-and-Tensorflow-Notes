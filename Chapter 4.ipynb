{
 "cells": [
  {
   "cell_type": "markdown",
   "metadata": {},
   "source": [
    "### Chapter 3 - Training Models\n",
    "\n",
    "\n",
    "Training a Linear Regression Model\n",
    "\n",
    "1. Closed Form Equation\n",
    "    - Equation that directly computes the model parameters that best fit the model to the training set.\n",
    "2. Iterative Optimization Approach ( Gradient Descent )\n",
    "    - Equation that gradually tweaks the model parameters to minimize the cost function over the training"
   ]
  },
  {
   "cell_type": "markdown",
   "metadata": {},
   "source": [
    "Linear Regression Model Prediction\n",
    "\n",
    "$$ \\hat{y} = \\theta_0 + \\theta_1x_1 + \\theta_2x_2 + ... + \\theta_nx_n$$\n",
    "\n",
    "$ \\hat{y} $ is the predicted value <br>\n",
    "$ n $ is the number of feature <br>\n",
    "$ x_i $ is the $ i^{th} $ feature value <br>\n",
    "$ \\theta $ is the $ j^{th} $ model parameter ( including bias term $ \\theta_0 $ and the feature weights $ \\theta_1, \\theta_2 $"
   ]
  },
  {
   "cell_type": "markdown",
   "metadata": {
    "collapsed": true
   },
   "source": [
    "Linear Regression Model and Prediction ( vectorized form )\n",
    "\n",
    "$$ \\hat{y} = h_\\theta(X) = \\theta^T - x$$\n",
    "\n",
    "where $\\theta$ is the model's parameter vector conataining the bias term $\\theta_0$ and the feature weights $\\theta_1 to \\theta_n$ <br>\n",
    "$ \\theta^T $ is the transpose of $ \\theta $ ( a row vectorintead of a column vector ) \n",
    "x is the instances feature vector, containing $"
   ]
  },
  {
   "cell_type": "code",
   "execution_count": null,
   "metadata": {
    "collapsed": true
   },
   "outputs": [],
   "source": []
  },
  {
   "cell_type": "code",
   "execution_count": null,
   "metadata": {
    "collapsed": true
   },
   "outputs": [],
   "source": []
  }
 ],
 "metadata": {
  "kernelspec": {
   "display_name": "Python 3",
   "language": "python",
   "name": "python3"
  },
  "language_info": {
   "codemirror_mode": {
    "name": "ipython",
    "version": 3
   },
   "file_extension": ".py",
   "mimetype": "text/x-python",
   "name": "python",
   "nbconvert_exporter": "python",
   "pygments_lexer": "ipython3",
   "version": "3.6.3"
  }
 },
 "nbformat": 4,
 "nbformat_minor": 2
}
